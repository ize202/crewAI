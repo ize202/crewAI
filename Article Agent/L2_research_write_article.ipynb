{
 "cells": [
  {
   "cell_type": "markdown",
   "metadata": {},
   "source": [
    "# L2: Create Agents to Research and Write an Article\n",
    "\n",
    "In this lesson, you will be introduced to the foundational concepts of multi-agent systems and get an overview of the crewAI framework."
   ]
  },
  {
   "cell_type": "markdown",
   "metadata": {},
   "source": [
    "The libraries are already installed in the classroom. If you're running this notebook on your own machine, you can install the following:\n",
    "```Python\n",
    "!pip install crewai==0.28.8 crewai_tools==0.1.6 langchain_community==0.0.29\n",
    "```"
   ]
  },
  {
   "cell_type": "code",
   "execution_count": 2,
   "metadata": {},
   "outputs": [],
   "source": [
    "# Warning control\n",
    "import warnings\n",
    "warnings.filterwarnings('ignore')"
   ]
  },
  {
   "cell_type": "code",
   "execution_count": 4,
   "metadata": {},
   "outputs": [
    {
     "name": "stdout",
     "output_type": "stream",
     "text": [
      "/Users/aizeigbinakenzua/.pyenv/versions/3.11.4/bin/python\n"
     ]
    }
   ],
   "source": [
    "import sys\n",
    "print(sys.executable)"
   ]
  },
  {
   "cell_type": "code",
   "execution_count": 5,
   "metadata": {},
   "outputs": [
    {
     "name": "stdout",
     "output_type": "stream",
     "text": [
      "3.11.4 (main, Oct 18 2024, 13:55:16) [Clang 16.0.0 (clang-1600.0.26.3)]\n"
     ]
    }
   ],
   "source": [
    "import sys\n",
    "print(sys.version)"
   ]
  },
  {
   "cell_type": "code",
   "execution_count": 8,
   "metadata": {},
   "outputs": [],
   "source": [
    "from crewai import Agent, Task, Crew"
   ]
  },
  {
   "cell_type": "code",
   "execution_count": 9,
   "metadata": {},
   "outputs": [],
   "source": [
    "import os\n",
    "from utils import get_openai_api_key\n",
    "\n",
    "openai_api_key = get_openai_api_key()\n",
    "os.environ[\"OPENAI_MODEL_NAME\"] = 'gpt-3.5-turbo'"
   ]
  },
  {
   "cell_type": "markdown",
   "metadata": {},
   "source": [
    "## Creating Agents\n",
    "\n",
    "- Define your Agents, and provide them a `role`, `goal` and `backstory`.\n",
    "- It has been seen that LLMs perform better when they are role playing."
   ]
  },
  {
   "cell_type": "markdown",
   "metadata": {},
   "source": [
    "### Agent: Planner\n",
    "\n",
    "**Note**: The benefit of using _multiple strings_ :\n",
    "```Python\n",
    "varname = \"line 1 of text\"\n",
    "          \"line 2 of text\"\n",
    "```\n",
    "\n",
    "versus the _triple quote docstring_:\n",
    "```Python\n",
    "varname = \"\"\"line 1 of text\n",
    "             line 2 of text\n",
    "          \"\"\"\n",
    "```\n",
    "is that it can avoid adding those whitespaces and newline characters, making it better formatted to be passed to the LLM."
   ]
  },
  {
   "cell_type": "code",
   "execution_count": 10,
   "metadata": {},
   "outputs": [],
   "source": [
    "planner = Agent(\n",
    "    role=\"Content Planner\",\n",
    "    goal=\"Plan engaging and factually accurate content on {topic}\",\n",
    "    backstory=\"You're working on planning a blog article \"\n",
    "              \"about the topic: {topic}.\"\n",
    "              \"You collect information that helps the \"\n",
    "              \"audience learn something \"\n",
    "              \"and make informed decisions. \"\n",
    "              \"Your work is the basis for \"\n",
    "              \"the Content Writer to write an article on this topic.\",\n",
    "    allow_delegation=False,\n",
    "\tverbose=True\n",
    ")"
   ]
  },
  {
   "cell_type": "markdown",
   "metadata": {},
   "source": [
    "### Agent: Writer"
   ]
  },
  {
   "cell_type": "code",
   "execution_count": 11,
   "metadata": {},
   "outputs": [],
   "source": [
    "writer = Agent(\n",
    "    role=\"Content Writer\",\n",
    "    goal=\"Write insightful and factually accurate \"\n",
    "         \"opinion piece about the topic: {topic}\",\n",
    "    backstory=\"You're working on a writing \"\n",
    "              \"a new opinion piece about the topic: {topic}. \"\n",
    "              \"You base your writing on the work of \"\n",
    "              \"the Content Planner, who provides an outline \"\n",
    "              \"and relevant context about the topic. \"\n",
    "              \"You follow the main objectives and \"\n",
    "              \"direction of the outline, \"\n",
    "              \"as provide by the Content Planner. \"\n",
    "              \"You also provide objective and impartial insights \"\n",
    "              \"and back them up with information \"\n",
    "              \"provide by the Content Planner. \"\n",
    "              \"You acknowledge in your opinion piece \"\n",
    "              \"when your statements are opinions \"\n",
    "              \"as opposed to objective statements.\",\n",
    "    allow_delegation=False,\n",
    "    verbose=True\n",
    ")"
   ]
  },
  {
   "cell_type": "markdown",
   "metadata": {},
   "source": [
    "### Agent: Editor\n"
   ]
  },
  {
   "cell_type": "code",
   "execution_count": 12,
   "metadata": {},
   "outputs": [],
   "source": [
    "editor = Agent(\n",
    "    role=\"Editor\",\n",
    "    goal=\"Edit a given blog post to align with \"\n",
    "         \"the writing style of the organization. \",\n",
    "    backstory=\"You are an editor who receives a blog post \"\n",
    "              \"from the Content Writer. \"\n",
    "              \"Your goal is to review the blog post \"\n",
    "              \"to ensure that it follows journalistic best practices,\"\n",
    "              \"provides balanced viewpoints \"\n",
    "              \"when providing opinions or assertions, \"\n",
    "              \"and also avoids major controversial topics \"\n",
    "              \"or opinions when possible.\",\n",
    "    allow_delegation=False,\n",
    "    verbose=True\n",
    ")"
   ]
  },
  {
   "cell_type": "markdown",
   "metadata": {},
   "source": [
    "## Creating Tasks\n",
    "\n",
    "- Define your Tasks, and provide them a `description`, `expected_output` and `agent`."
   ]
  },
  {
   "cell_type": "markdown",
   "metadata": {},
   "source": [
    "### Task: Plan"
   ]
  },
  {
   "cell_type": "code",
   "execution_count": 13,
   "metadata": {},
   "outputs": [],
   "source": [
    "plan = Task(\n",
    "    description=(\n",
    "        \"1. Prioritize the latest trends, key players, \"\n",
    "            \"and noteworthy news on {topic}.\\n\"\n",
    "        \"2. Identify the target audience, considering \"\n",
    "            \"their interests and pain points.\\n\"\n",
    "        \"3. Develop a detailed content outline including \"\n",
    "            \"an introduction, key points, and a call to action.\\n\"\n",
    "        \"4. Include SEO keywords and relevant data or sources.\"\n",
    "    ),\n",
    "    expected_output=\"A comprehensive content plan document \"\n",
    "        \"with an outline, audience analysis, \"\n",
    "        \"SEO keywords, and resources.\",\n",
    "    agent=planner,\n",
    ")"
   ]
  },
  {
   "cell_type": "markdown",
   "metadata": {},
   "source": [
    "### Task: Write"
   ]
  },
  {
   "cell_type": "code",
   "execution_count": 14,
   "metadata": {},
   "outputs": [],
   "source": [
    "write = Task(\n",
    "    description=(\n",
    "        \"1. Use the content plan to craft a compelling \"\n",
    "            \"blog post on {topic}.\\n\"\n",
    "        \"2. Incorporate SEO keywords naturally.\\n\"\n",
    "\t\t\"3. Sections/Subtitles are properly named \"\n",
    "            \"in an engaging manner.\\n\"\n",
    "        \"4. Ensure the post is structured with an \"\n",
    "            \"engaging introduction, insightful body, \"\n",
    "            \"and a summarizing conclusion.\\n\"\n",
    "        \"5. Proofread for grammatical errors and \"\n",
    "            \"alignment with the brand's voice.\\n\"\n",
    "    ),\n",
    "    expected_output=\"A well-written blog post \"\n",
    "        \"in markdown format, ready for publication, \"\n",
    "        \"each section should have 2 or 3 paragraphs.\",\n",
    "    agent=writer,\n",
    ")"
   ]
  },
  {
   "cell_type": "markdown",
   "metadata": {},
   "source": [
    "### Task: Edit\n"
   ]
  },
  {
   "cell_type": "code",
   "execution_count": 15,
   "metadata": {},
   "outputs": [],
   "source": [
    "edit = Task(\n",
    "    description=(\"Proofread the given blog post for \"\n",
    "                 \"grammatical errors and \"\n",
    "                 \"alignment with the brand's voice.\"),\n",
    "    expected_output=\"A well-written blog post in markdown format, \"\n",
    "                    \"ready for publication, \"\n",
    "                    \"each section should have 2 or 3 paragraphs.\",\n",
    "    agent=editor\n",
    ")"
   ]
  },
  {
   "cell_type": "markdown",
   "metadata": {},
   "source": [
    "## Creating the Crew\n",
    "\n",
    "- Create your crew of Agents\n",
    "- Pass the tasks to be performed by those agents.\n",
    "    - **Note**: *For this simple example*, the tasks will be performed sequentially (i.e they are dependent on each other), so the _order_ of the task in the list _matters_.\n",
    "- `verbose=2` allows you to see all the logs of the execution. "
   ]
  },
  {
   "cell_type": "code",
   "execution_count": 16,
   "metadata": {},
   "outputs": [],
   "source": [
    "crew = Crew(\n",
    "    agents=[planner, writer, editor],\n",
    "    tasks=[plan, write, edit],\n",
    "    verbose=2\n",
    ")"
   ]
  },
  {
   "cell_type": "markdown",
   "metadata": {},
   "source": [
    "## Running the Crew"
   ]
  },
  {
   "cell_type": "markdown",
   "metadata": {},
   "source": [
    "**Note**: LLMs can provide different outputs for they same input, so what you get might be different than what you see in the video."
   ]
  },
  {
   "cell_type": "code",
   "execution_count": 17,
   "metadata": {},
   "outputs": [
    {
     "name": "stdout",
     "output_type": "stream",
     "text": [
      "\u001b[1m\u001b[95m [DEBUG]: == Working Agent: Content Planner\u001b[00m\n",
      "\u001b[1m\u001b[95m [INFO]: == Starting Task: 1. Prioritize the latest trends, key players, and noteworthy news on Artificial Intelligence.\n",
      "2. Identify the target audience, considering their interests and pain points.\n",
      "3. Develop a detailed content outline including an introduction, key points, and a call to action.\n",
      "4. Include SEO keywords and relevant data or sources.\u001b[00m\n",
      "\n",
      "\n",
      "\u001b[1m> Entering new CrewAgentExecutor chain...\u001b[0m\n",
      "\u001b[32;1m\u001b[1;3mI now can give a great answer\n",
      "\n",
      "Final Answer:\n",
      "Title: Exploring the Future of Artificial Intelligence: Trends, Players, and News\n",
      "\n",
      "Outline:\n",
      "I. Introduction\n",
      "- Brief overview of Artificial Intelligence (AI)\n",
      "- Importance of staying updated on AI trends and news\n",
      "\n",
      "II. Latest Trends in Artificial Intelligence\n",
      "- Advancements in machine learning algorithms\n",
      "- Integration of AI in various industries such as healthcare, finance, and technology\n",
      "- Rise of autonomous vehicles and robotics powered by AI\n",
      "\n",
      "III. Key Players in the AI Industry\n",
      "- Leading companies investing in AI research and development (e.g. Google, Microsoft, Amazon)\n",
      "- Emerging startups making significant contributions to the AI landscape\n",
      "- Collaboration between academia and industry in driving AI innovation\n",
      "\n",
      "IV. Noteworthy News in Artificial Intelligence\n",
      "- Recent breakthroughs in natural language processing and computer vision\n",
      "- Ethical considerations and discussions surrounding AI bias and transparency\n",
      "- Impact of AI on job market and workforce automation\n",
      "\n",
      "V. Target Audience Analysis\n",
      "- Professionals in technology and data science interested in AI advancements\n",
      "- Business leaders seeking to implement AI solutions in their organizations\n",
      "- Students and researchers studying AI and machine learning\n",
      "\n",
      "VI. SEO Keywords\n",
      "- Artificial Intelligence trends\n",
      "- Key players in AI industry\n",
      "- Latest news on AI developments\n",
      "- Future of Artificial Intelligence\n",
      "- AI innovation and research\n",
      "\n",
      "VII. Resources\n",
      "- Industry reports and whitepapers on AI trends\n",
      "- Research papers and articles from reputable sources such as MIT Technology Review and Forbes\n",
      "- Interviews with AI experts and thought leaders in the field\n",
      "\n",
      "Call to Action:\n",
      "Stay informed on the latest trends and developments in Artificial Intelligence by subscribing to our newsletter for regular updates and insights on AI innovation.\n",
      "\n",
      "By following this content plan, we aim to provide our audience with valuable information on Artificial Intelligence that is both engaging and factually accurate.\u001b[0m\n",
      "\n",
      "\u001b[1m> Finished chain.\u001b[0m\n",
      "\u001b[1m\u001b[92m [DEBUG]: == [Content Planner] Task output: Title: Exploring the Future of Artificial Intelligence: Trends, Players, and News\n",
      "\n",
      "Outline:\n",
      "I. Introduction\n",
      "- Brief overview of Artificial Intelligence (AI)\n",
      "- Importance of staying updated on AI trends and news\n",
      "\n",
      "II. Latest Trends in Artificial Intelligence\n",
      "- Advancements in machine learning algorithms\n",
      "- Integration of AI in various industries such as healthcare, finance, and technology\n",
      "- Rise of autonomous vehicles and robotics powered by AI\n",
      "\n",
      "III. Key Players in the AI Industry\n",
      "- Leading companies investing in AI research and development (e.g. Google, Microsoft, Amazon)\n",
      "- Emerging startups making significant contributions to the AI landscape\n",
      "- Collaboration between academia and industry in driving AI innovation\n",
      "\n",
      "IV. Noteworthy News in Artificial Intelligence\n",
      "- Recent breakthroughs in natural language processing and computer vision\n",
      "- Ethical considerations and discussions surrounding AI bias and transparency\n",
      "- Impact of AI on job market and workforce automation\n",
      "\n",
      "V. Target Audience Analysis\n",
      "- Professionals in technology and data science interested in AI advancements\n",
      "- Business leaders seeking to implement AI solutions in their organizations\n",
      "- Students and researchers studying AI and machine learning\n",
      "\n",
      "VI. SEO Keywords\n",
      "- Artificial Intelligence trends\n",
      "- Key players in AI industry\n",
      "- Latest news on AI developments\n",
      "- Future of Artificial Intelligence\n",
      "- AI innovation and research\n",
      "\n",
      "VII. Resources\n",
      "- Industry reports and whitepapers on AI trends\n",
      "- Research papers and articles from reputable sources such as MIT Technology Review and Forbes\n",
      "- Interviews with AI experts and thought leaders in the field\n",
      "\n",
      "Call to Action:\n",
      "Stay informed on the latest trends and developments in Artificial Intelligence by subscribing to our newsletter for regular updates and insights on AI innovation.\n",
      "\n",
      "By following this content plan, we aim to provide our audience with valuable information on Artificial Intelligence that is both engaging and factually accurate.\n",
      "\n",
      "\u001b[00m\n",
      "\u001b[1m\u001b[95m [DEBUG]: == Working Agent: Content Writer\u001b[00m\n",
      "\u001b[1m\u001b[95m [INFO]: == Starting Task: 1. Use the content plan to craft a compelling blog post on Artificial Intelligence.\n",
      "2. Incorporate SEO keywords naturally.\n",
      "3. Sections/Subtitles are properly named in an engaging manner.\n",
      "4. Ensure the post is structured with an engaging introduction, insightful body, and a summarizing conclusion.\n",
      "5. Proofread for grammatical errors and alignment with the brand's voice.\n",
      "\u001b[00m\n",
      "\n",
      "\n",
      "\u001b[1m> Entering new CrewAgentExecutor chain...\u001b[0m\n",
      "\u001b[32;1m\u001b[1;3mI now can give a great answer\n",
      "\n",
      "Final Answer:\n",
      "# Exploring the Future of Artificial Intelligence: Trends, Players, and News\n",
      "\n",
      "## Introduction\n",
      "Artificial Intelligence (AI) has become an integral part of our lives, revolutionizing industries and shaping the future of technology. Staying updated on the latest trends and news in AI is crucial for professionals and enthusiasts alike to understand the impact and potential of this groundbreaking technology.\n",
      "\n",
      "## Latest Trends in Artificial Intelligence\n",
      "The field of AI is rapidly evolving, with advancements in machine learning algorithms driving innovation across various sectors. From healthcare to finance and technology, AI is being integrated to improve efficiency and decision-making processes. The rise of autonomous vehicles and robotics powered by AI is reshaping transportation and manufacturing industries, paving the way for a more automated and connected future.\n",
      "\n",
      "## Key Players in the AI Industry\n",
      "Leading companies such as Google, Microsoft, and Amazon are heavily investing in AI research and development, driving major breakthroughs in the field. Emerging startups are also making significant contributions, bringing fresh ideas and solutions to the AI landscape. Collaboration between academia and industry is essential in driving AI innovation, fostering a dynamic ecosystem of research and development.\n",
      "\n",
      "## Noteworthy News in Artificial Intelligence\n",
      "Recent breakthroughs in natural language processing and computer vision have pushed the boundaries of AI capabilities, enabling more sophisticated applications and services. Ethical considerations surrounding AI bias and transparency are sparking important discussions within the industry, highlighting the need for responsible AI development. The impact of AI on the job market and workforce automation is a pressing issue, requiring proactive measures to address potential challenges and opportunities.\n",
      "\n",
      "## Target Audience Analysis\n",
      "Professionals in technology and data science are keen on staying informed about AI advancements, seeking to leverage the latest tools and techniques in their work. Business leaders are looking to implement AI solutions in their organizations to gain a competitive edge and drive innovation. Students and researchers studying AI and machine learning are at the forefront of shaping the future of AI, exploring new possibilities and applications in this dynamic field.\n",
      "\n",
      "## SEO Keywords\n",
      "Artificial Intelligence trends, Key players in AI industry, Latest news on AI developments, Future of Artificial Intelligence, AI innovation and research\n",
      "\n",
      "## Resources\n",
      "For more in-depth insights on AI trends and developments, industry reports and whitepapers are valuable sources of information. Research papers and articles from reputable sources such as MIT Technology Review and Forbes offer expert analysis and perspectives on the latest AI advancements. Interviews with AI experts and thought leaders provide valuable insights into the future of AI innovation.\n",
      "\n",
      "**Call to Action:**\n",
      "Stay informed on the latest trends and developments in Artificial Intelligence by subscribing to our newsletter for regular updates and insights on AI innovation.\n",
      "\n",
      "By following this content plan, we aim to provide our audience with valuable information on Artificial Intelligence that is both engaging and factually accurate.\u001b[0m\n",
      "\n",
      "\u001b[1m> Finished chain.\u001b[0m\n",
      "\u001b[1m\u001b[92m [DEBUG]: == [Content Writer] Task output: # Exploring the Future of Artificial Intelligence: Trends, Players, and News\n",
      "\n",
      "## Introduction\n",
      "Artificial Intelligence (AI) has become an integral part of our lives, revolutionizing industries and shaping the future of technology. Staying updated on the latest trends and news in AI is crucial for professionals and enthusiasts alike to understand the impact and potential of this groundbreaking technology.\n",
      "\n",
      "## Latest Trends in Artificial Intelligence\n",
      "The field of AI is rapidly evolving, with advancements in machine learning algorithms driving innovation across various sectors. From healthcare to finance and technology, AI is being integrated to improve efficiency and decision-making processes. The rise of autonomous vehicles and robotics powered by AI is reshaping transportation and manufacturing industries, paving the way for a more automated and connected future.\n",
      "\n",
      "## Key Players in the AI Industry\n",
      "Leading companies such as Google, Microsoft, and Amazon are heavily investing in AI research and development, driving major breakthroughs in the field. Emerging startups are also making significant contributions, bringing fresh ideas and solutions to the AI landscape. Collaboration between academia and industry is essential in driving AI innovation, fostering a dynamic ecosystem of research and development.\n",
      "\n",
      "## Noteworthy News in Artificial Intelligence\n",
      "Recent breakthroughs in natural language processing and computer vision have pushed the boundaries of AI capabilities, enabling more sophisticated applications and services. Ethical considerations surrounding AI bias and transparency are sparking important discussions within the industry, highlighting the need for responsible AI development. The impact of AI on the job market and workforce automation is a pressing issue, requiring proactive measures to address potential challenges and opportunities.\n",
      "\n",
      "## Target Audience Analysis\n",
      "Professionals in technology and data science are keen on staying informed about AI advancements, seeking to leverage the latest tools and techniques in their work. Business leaders are looking to implement AI solutions in their organizations to gain a competitive edge and drive innovation. Students and researchers studying AI and machine learning are at the forefront of shaping the future of AI, exploring new possibilities and applications in this dynamic field.\n",
      "\n",
      "## SEO Keywords\n",
      "Artificial Intelligence trends, Key players in AI industry, Latest news on AI developments, Future of Artificial Intelligence, AI innovation and research\n",
      "\n",
      "## Resources\n",
      "For more in-depth insights on AI trends and developments, industry reports and whitepapers are valuable sources of information. Research papers and articles from reputable sources such as MIT Technology Review and Forbes offer expert analysis and perspectives on the latest AI advancements. Interviews with AI experts and thought leaders provide valuable insights into the future of AI innovation.\n",
      "\n",
      "**Call to Action:**\n",
      "Stay informed on the latest trends and developments in Artificial Intelligence by subscribing to our newsletter for regular updates and insights on AI innovation.\n",
      "\n",
      "By following this content plan, we aim to provide our audience with valuable information on Artificial Intelligence that is both engaging and factually accurate.\n",
      "\n",
      "\u001b[00m\n",
      "\u001b[1m\u001b[95m [DEBUG]: == Working Agent: Editor\u001b[00m\n",
      "\u001b[1m\u001b[95m [INFO]: == Starting Task: Proofread the given blog post for grammatical errors and alignment with the brand's voice.\u001b[00m\n",
      "\n",
      "\n",
      "\u001b[1m> Entering new CrewAgentExecutor chain...\u001b[0m\n",
      "\u001b[32;1m\u001b[1;3mI now can give a great answer\n",
      "\n",
      "Final Answer: \n",
      "\n",
      "# Exploring the Future of Artificial Intelligence: Trends, Players, and News\n",
      "\n",
      "## Introduction\n",
      "Artificial Intelligence (AI) has become an integral part of our lives, revolutionizing industries and shaping the future of technology. Staying updated on the latest trends and news in AI is crucial for professionals and enthusiasts alike to understand the impact and potential of this groundbreaking technology.\n",
      "\n",
      "## Latest Trends in Artificial Intelligence\n",
      "The field of AI is rapidly evolving, with advancements in machine learning algorithms driving innovation across various sectors. From healthcare to finance and technology, AI is being integrated to improve efficiency and decision-making processes. The rise of autonomous vehicles and robotics powered by AI is reshaping transportation and manufacturing industries, paving the way for a more automated and connected future.\n",
      "\n",
      "## Key Players in the AI Industry\n",
      "Leading companies such as Google, Microsoft, and Amazon are heavily investing in AI research and development, driving major breakthroughs in the field. Emerging startups are also making significant contributions, bringing fresh ideas and solutions to the AI landscape. Collaboration between academia and industry is essential in driving AI innovation, fostering a dynamic ecosystem of research and development.\n",
      "\n",
      "## Noteworthy News in Artificial Intelligence\n",
      "Recent breakthroughs in natural language processing and computer vision have pushed the boundaries of AI capabilities, enabling more sophisticated applications and services. Ethical considerations surrounding AI bias and transparency are sparking important discussions within the industry, highlighting the need for responsible AI development. The impact of AI on the job market and workforce automation is a pressing issue, requiring proactive measures to address potential challenges and opportunities.\n",
      "\n",
      "## Target Audience Analysis\n",
      "Professionals in technology and data science are keen on staying informed about AI advancements, seeking to leverage the latest tools and techniques in their work. Business leaders are looking to implement AI solutions in their organizations to gain a competitive edge and drive innovation. Students and researchers studying AI and machine learning are at the forefront of shaping the future of AI, exploring new possibilities and applications in this dynamic field.\n",
      "\n",
      "## SEO Keywords\n",
      "Artificial Intelligence trends, Key players in AI industry, Latest news on AI developments, Future of Artificial Intelligence, AI innovation and research\n",
      "\n",
      "## Resources\n",
      "For more in-depth insights on AI trends and developments, industry reports and whitepapers are valuable sources of information. Research papers and articles from reputable sources such as MIT Technology Review and Forbes offer expert analysis and perspectives on the latest AI advancements. Interviews with AI experts and thought leaders provide valuable insights into the future of AI innovation.\n",
      "\n",
      "**Call to Action:**\n",
      "Stay informed on the latest trends and developments in Artificial Intelligence by subscribing to our newsletter for regular updates and insights on AI innovation.\n",
      "\n",
      "By following this content plan, we aim to provide our audience with valuable information on Artificial Intelligence that is both engaging and factually accurate.\u001b[0m\n",
      "\n",
      "\u001b[1m> Finished chain.\u001b[0m\n",
      "\u001b[1m\u001b[92m [DEBUG]: == [Editor] Task output: # Exploring the Future of Artificial Intelligence: Trends, Players, and News\n",
      "\n",
      "## Introduction\n",
      "Artificial Intelligence (AI) has become an integral part of our lives, revolutionizing industries and shaping the future of technology. Staying updated on the latest trends and news in AI is crucial for professionals and enthusiasts alike to understand the impact and potential of this groundbreaking technology.\n",
      "\n",
      "## Latest Trends in Artificial Intelligence\n",
      "The field of AI is rapidly evolving, with advancements in machine learning algorithms driving innovation across various sectors. From healthcare to finance and technology, AI is being integrated to improve efficiency and decision-making processes. The rise of autonomous vehicles and robotics powered by AI is reshaping transportation and manufacturing industries, paving the way for a more automated and connected future.\n",
      "\n",
      "## Key Players in the AI Industry\n",
      "Leading companies such as Google, Microsoft, and Amazon are heavily investing in AI research and development, driving major breakthroughs in the field. Emerging startups are also making significant contributions, bringing fresh ideas and solutions to the AI landscape. Collaboration between academia and industry is essential in driving AI innovation, fostering a dynamic ecosystem of research and development.\n",
      "\n",
      "## Noteworthy News in Artificial Intelligence\n",
      "Recent breakthroughs in natural language processing and computer vision have pushed the boundaries of AI capabilities, enabling more sophisticated applications and services. Ethical considerations surrounding AI bias and transparency are sparking important discussions within the industry, highlighting the need for responsible AI development. The impact of AI on the job market and workforce automation is a pressing issue, requiring proactive measures to address potential challenges and opportunities.\n",
      "\n",
      "## Target Audience Analysis\n",
      "Professionals in technology and data science are keen on staying informed about AI advancements, seeking to leverage the latest tools and techniques in their work. Business leaders are looking to implement AI solutions in their organizations to gain a competitive edge and drive innovation. Students and researchers studying AI and machine learning are at the forefront of shaping the future of AI, exploring new possibilities and applications in this dynamic field.\n",
      "\n",
      "## SEO Keywords\n",
      "Artificial Intelligence trends, Key players in AI industry, Latest news on AI developments, Future of Artificial Intelligence, AI innovation and research\n",
      "\n",
      "## Resources\n",
      "For more in-depth insights on AI trends and developments, industry reports and whitepapers are valuable sources of information. Research papers and articles from reputable sources such as MIT Technology Review and Forbes offer expert analysis and perspectives on the latest AI advancements. Interviews with AI experts and thought leaders provide valuable insights into the future of AI innovation.\n",
      "\n",
      "**Call to Action:**\n",
      "Stay informed on the latest trends and developments in Artificial Intelligence by subscribing to our newsletter for regular updates and insights on AI innovation.\n",
      "\n",
      "By following this content plan, we aim to provide our audience with valuable information on Artificial Intelligence that is both engaging and factually accurate.\n",
      "\n",
      "\u001b[00m\n"
     ]
    }
   ],
   "source": [
    "result = crew.kickoff(inputs={\"topic\": \"Artificial Intelligence\"})"
   ]
  },
  {
   "cell_type": "markdown",
   "metadata": {},
   "source": [
    "- Display the results of your execution as markdown in the notebook."
   ]
  },
  {
   "cell_type": "code",
   "execution_count": null,
   "metadata": {},
   "outputs": [],
   "source": [
    "from IPython.display import Markdown\n",
    "Markdown(result)"
   ]
  },
  {
   "cell_type": "markdown",
   "metadata": {},
   "source": [
    "## Try it Yourself\n",
    "\n",
    "- Pass in a topic of your choice and see what the agents come up with!"
   ]
  },
  {
   "cell_type": "code",
   "execution_count": null,
   "metadata": {},
   "outputs": [],
   "source": [
    "topic = \"YOUR TOPIC HERE\"\n",
    "result = crew.kickoff(inputs={\"topic\": topic})"
   ]
  },
  {
   "cell_type": "code",
   "execution_count": null,
   "metadata": {},
   "outputs": [],
   "source": [
    "Markdown(result)"
   ]
  }
 ],
 "metadata": {
  "kernelspec": {
   "display_name": "Python 3",
   "language": "python",
   "name": "python3"
  },
  "language_info": {
   "codemirror_mode": {
    "name": "ipython",
    "version": 3
   },
   "file_extension": ".py",
   "mimetype": "text/x-python",
   "name": "python",
   "nbconvert_exporter": "python",
   "pygments_lexer": "ipython3",
   "version": "3.11.4"
  }
 },
 "nbformat": 4,
 "nbformat_minor": 2
}
