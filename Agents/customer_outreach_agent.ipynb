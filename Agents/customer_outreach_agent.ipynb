{
 "cells": [
  {
   "cell_type": "markdown",
   "metadata": {},
   "source": [
    "# L4: Tools for a Customer Outreach Campaign\n",
    "\n",
    "In this lesson, you will learn more about Tools. You'll focus on three key elements of Tools:\n",
    "- Versatility\n",
    "- Fault Tolerance\n",
    "- Caching"
   ]
  },
  {
   "cell_type": "markdown",
   "metadata": {},
   "source": [
    "The libraries are already installed in the classroom. If you're running this notebook on your own machine, you can install the following:\n",
    "```Python\n",
    "!pip install crewai==0.28.8 crewai_tools==0.1.6 langchain_community==0.0.29\n",
    "```"
   ]
  },
  {
   "cell_type": "code",
   "execution_count": 1,
   "metadata": {},
   "outputs": [],
   "source": [
    "# Warning control\n",
    "import warnings\n",
    "warnings.filterwarnings('ignore')"
   ]
  },
  {
   "cell_type": "markdown",
   "metadata": {},
   "source": [
    "- Import libraries, APIs and LLM\n",
    "- [Serper](https://serper.dev)"
   ]
  },
  {
   "cell_type": "code",
   "execution_count": 2,
   "metadata": {},
   "outputs": [],
   "source": [
    "from crewai import Agent, Task, Crew"
   ]
  },
  {
   "cell_type": "markdown",
   "metadata": {},
   "source": [
    "**Note**: \n",
    "- The video uses `gpt-4-turbo`, but due to certain constraints, and in order to offer this course for free to everyone, the code you'll run here will use `gpt-3.5-turbo`.\n",
    "- You can use `gpt-4-turbo` when you run the notebook _locally_ (using `gpt-4-turbo` will not work on the platform)\n",
    "- Thank you for your understanding!"
   ]
  },
  {
   "cell_type": "code",
   "execution_count": 3,
   "metadata": {},
   "outputs": [],
   "source": [
    "import os\n",
    "from utils import get_openai_api_key, pretty_print_result\n",
    "from utils import get_serper_api_key\n",
    "\n",
    "openai_api_key = get_openai_api_key()\n",
    "os.environ[\"OPENAI_MODEL_NAME\"] = 'gpt-4-turbo'\n",
    "os.environ[\"SERPER_API_KEY\"] = get_serper_api_key()"
   ]
  },
  {
   "cell_type": "markdown",
   "metadata": {},
   "source": [
    "## Creating Agents"
   ]
  },
  {
   "cell_type": "code",
   "execution_count": 4,
   "metadata": {},
   "outputs": [],
   "source": [
    "sales_rep_agent = Agent(\n",
    "    role=\"Sales Representative\",\n",
    "    goal=\"Identify high-value leads that match \"\n",
    "         \"our ideal customer profile\",\n",
    "    backstory=(\n",
    "        \"As a part of the dynamic sales team at CrewAI, \"\n",
    "        \"your mission is to scour \"\n",
    "        \"the digital landscape for potential leads. \"\n",
    "        \"Armed with cutting-edge tools \"\n",
    "        \"and a strategic mindset, you analyze data, \"\n",
    "        \"trends, and interactions to \"\n",
    "        \"unearth opportunities that others might overlook. \"\n",
    "        \"Your work is crucial in paving the way \"\n",
    "        \"for meaningful engagements and driving the company's growth.\"\n",
    "    ),\n",
    "    allow_delegation=False,\n",
    "    verbose=True\n",
    ")"
   ]
  },
  {
   "cell_type": "code",
   "execution_count": 5,
   "metadata": {},
   "outputs": [],
   "source": [
    "lead_sales_rep_agent = Agent(\n",
    "    role=\"Lead Sales Representative\",\n",
    "    goal=\"Nurture leads with personalized, compelling communications\",\n",
    "    backstory=(\n",
    "        \"Within the vibrant ecosystem of CrewAI's sales department, \"\n",
    "        \"you stand out as the bridge between potential clients \"\n",
    "        \"and the solutions they need.\"\n",
    "        \"By creating engaging, personalized messages, \"\n",
    "        \"you not only inform leads about our offerings \"\n",
    "        \"but also make them feel seen and heard.\"\n",
    "        \"Your role is pivotal in converting interest \"\n",
    "        \"into action, guiding leads through the journey \"\n",
    "        \"from curiosity to commitment.\"\n",
    "    ),\n",
    "    allow_delegation=False,\n",
    "    verbose=True\n",
    ")"
   ]
  },
  {
   "cell_type": "markdown",
   "metadata": {},
   "source": [
    "## Creating Tools\n",
    "\n",
    "### crewAI Tools"
   ]
  },
  {
   "cell_type": "code",
   "execution_count": 6,
   "metadata": {},
   "outputs": [],
   "source": [
    "from crewai_tools import DirectoryReadTool, \\\n",
    "                         FileReadTool, \\\n",
    "                         SerperDevTool"
   ]
  },
  {
   "cell_type": "code",
   "execution_count": 7,
   "metadata": {},
   "outputs": [],
   "source": [
    "directory_read_tool = DirectoryReadTool(directory='./instructions')\n",
    "file_read_tool = FileReadTool()\n",
    "search_tool = SerperDevTool()"
   ]
  },
  {
   "cell_type": "markdown",
   "metadata": {},
   "source": [
    "### Custom Tool\n",
    "- Create a custom tool using crewAi's [BaseTool](https://docs.crewai.com/core-concepts/Tools/#subclassing-basetool) class"
   ]
  },
  {
   "cell_type": "code",
   "execution_count": 8,
   "metadata": {},
   "outputs": [],
   "source": [
    "from crewai_tools import BaseTool"
   ]
  },
  {
   "cell_type": "markdown",
   "metadata": {},
   "source": [
    "- Every Tool needs to have a `name` and a `description`.\n",
    "- For simplicity and classroom purposes, `SentimentAnalysisTool` will return `positive` for every text.\n",
    "- When running locally, you can customize the code with your logic in the `_run` function."
   ]
  },
  {
   "cell_type": "code",
   "execution_count": 9,
   "metadata": {},
   "outputs": [],
   "source": [
    "class SentimentAnalysisTool(BaseTool):\n",
    "    name: str =\"Sentiment Analysis Tool\"\n",
    "    description: str = (\"Analyzes the sentiment of text \"\n",
    "         \"to ensure positive and engaging communication.\")\n",
    "    \n",
    "    def _run(self, text: str) -> str:\n",
    "        # Your custom code tool goes here\n",
    "        return \"positive\""
   ]
  },
  {
   "cell_type": "code",
   "execution_count": 10,
   "metadata": {},
   "outputs": [],
   "source": [
    "sentiment_analysis_tool = SentimentAnalysisTool()"
   ]
  },
  {
   "cell_type": "markdown",
   "metadata": {},
   "source": [
    "## Creating Tasks\n",
    "\n",
    "- The Lead Profiling Task is using crewAI Tools."
   ]
  },
  {
   "cell_type": "code",
   "execution_count": 11,
   "metadata": {},
   "outputs": [],
   "source": [
    "lead_profiling_task = Task(\n",
    "    description=(\n",
    "        \"Conduct an in-depth analysis of {lead_name}, \"\n",
    "        \"a company in the {industry} sector \"\n",
    "        \"that recently showed interest in our solutions. \"\n",
    "        \"Utilize all available data sources \"\n",
    "        \"to compile a detailed profile, \"\n",
    "        \"focusing on key decision-makers, recent business \"\n",
    "        \"developments, and potential needs \"\n",
    "        \"that align with our offerings. \"\n",
    "        \"This task is crucial for tailoring \"\n",
    "        \"our engagement strategy effectively.\\n\"\n",
    "        \"Don't make assumptions and \"\n",
    "        \"only use information you absolutely sure about.\"\n",
    "    ),\n",
    "    expected_output=(\n",
    "        \"A comprehensive report on {lead_name}, \"\n",
    "        \"including company background, \"\n",
    "        \"key personnel, recent milestones, and identified needs. \"\n",
    "        \"Highlight potential areas where \"\n",
    "        \"our solutions can provide value, \"\n",
    "        \"and suggest personalized engagement strategies.\"\n",
    "    ),\n",
    "    tools=[directory_read_tool, file_read_tool, search_tool],\n",
    "    agent=sales_rep_agent,\n",
    ")"
   ]
  },
  {
   "cell_type": "markdown",
   "metadata": {},
   "source": [
    "- The Personalized Outreach Task is using your custom Tool `SentimentAnalysisTool`, as well as crewAI's `SerperDevTool` (search_tool)."
   ]
  },
  {
   "cell_type": "code",
   "execution_count": 12,
   "metadata": {},
   "outputs": [],
   "source": [
    "personalized_outreach_task = Task(\n",
    "    description=(\n",
    "        \"Using the insights gathered from \"\n",
    "        \"the lead profiling report on {lead_name}, \"\n",
    "        \"craft a personalized outreach campaign \"\n",
    "        \"aimed at {key_decision_maker}, \"\n",
    "        \"the {position} of {lead_name}. \"\n",
    "        \"The campaign should address their recent {milestone} \"\n",
    "        \"and how our solutions can support their goals. \"\n",
    "        \"Your communication must resonate \"\n",
    "        \"with {lead_name}'s company culture and values, \"\n",
    "        \"demonstrating a deep understanding of \"\n",
    "        \"their business and needs.\\n\"\n",
    "        \"Don't make assumptions and only \"\n",
    "        \"use information you absolutely sure about.\"\n",
    "    ),\n",
    "    expected_output=(\n",
    "        \"A series of personalized email drafts \"\n",
    "        \"tailored to {lead_name}, \"\n",
    "        \"specifically targeting {key_decision_maker}.\"\n",
    "        \"Each draft should include \"\n",
    "        \"a compelling narrative that connects our solutions \"\n",
    "        \"with their recent achievements and future goals. \"\n",
    "        \"Ensure the tone is engaging, professional, \"\n",
    "        \"and aligned with {lead_name}'s corporate identity.\"\n",
    "    ),\n",
    "    tools=[sentiment_analysis_tool, search_tool],\n",
    "    agent=lead_sales_rep_agent,\n",
    ")"
   ]
  },
  {
   "cell_type": "markdown",
   "metadata": {},
   "source": [
    "## Creating the Crew"
   ]
  },
  {
   "cell_type": "code",
   "execution_count": 13,
   "metadata": {},
   "outputs": [],
   "source": [
    "crew = Crew(\n",
    "    agents=[sales_rep_agent, \n",
    "            lead_sales_rep_agent],\n",
    "    \n",
    "    tasks=[lead_profiling_task, \n",
    "           personalized_outreach_task],\n",
    "\t\n",
    "    verbose=2,\n",
    "\tmemory=True\n",
    ")"
   ]
  },
  {
   "cell_type": "markdown",
   "metadata": {},
   "source": [
    "## Running the Crew\n",
    "\n",
    "**Note**: LLMs can provide different outputs for they same input, so what you get might be different than what you see in the video."
   ]
  },
  {
   "cell_type": "code",
   "execution_count": 14,
   "metadata": {},
   "outputs": [
    {
     "name": "stdout",
     "output_type": "stream",
     "text": [
      "\u001b[1m\u001b[95m [DEBUG]: == Working Agent: Sales Representative\u001b[00m\n",
      "\u001b[1m\u001b[95m [INFO]: == Starting Task: Conduct an in-depth analysis of DeepLearningAI, a company in the Online Learning Platform sector that recently showed interest in our solutions. Utilize all available data sources to compile a detailed profile, focusing on key decision-makers, recent business developments, and potential needs that align with our offerings. This task is crucial for tailoring our engagement strategy effectively.\n",
      "Don't make assumptions and only use information you absolutely sure about.\u001b[00m\n",
      "\n",
      "\n",
      "\u001b[1m> Entering new CrewAgentExecutor chain...\u001b[0m\n",
      "\u001b[32;1m\u001b[1;3mThought: To begin compiling a detailed profile on DeepLearningAI, I need to gather comprehensive information about the company’s background, key decision-makers, recent business developments, and their potential needs that match our offerings. I will start by searching the internet for general information about DeepLearningAI to establish a foundation for further analysis.\n",
      "\n",
      "Action: Search the internet\n",
      "Action Input: {\"search_query\": \"DeepLearningAI company profile\"}\u001b[0m\u001b[95m \n",
      "\n",
      "\n",
      "Search results: Title: Deeplearning.ai - Crunchbase Company Profile & Funding\n",
      "Link: https://www.crunchbase.com/organization/deeplearning-ai\n",
      "Snippet: Deeplearning.ai is company that explores the frontier of AI. The company is founded by Andrew Ng, the former Chief Scientist of Baidu and the current ...\n",
      "---\n",
      "Title: DeepLearning.AI - LinkedIn\n",
      "Link: https://www.linkedin.com/company/deeplearningai\n",
      "Snippet: DeepLearning.AI is making a world-class AI education accessible to people around the globe. DeepLearning.AI was founded by Andrew Ng, a global leader in AI.\n",
      "---\n",
      "Title: Deeplearning.ai company information, funding & investors\n",
      "Link: https://app.dealroom.co/companies/deeplearning_ai\n",
      "Snippet: Deeplearningai is company that explores the frontier of AI. Location. Palo Alto California (HQ). Website. deeplearning.ai. Launch date. 2017. Employees.\n",
      "---\n",
      "Title: deeplearning.ai Information - RocketReach\n",
      "Link: https://rocketreach.co/deeplearningai-profile_b4556bbefc954d11\n",
      "Snippet: deeplearning.ai is an Artificial Intelligence, Data and Analytics, and Deep Learning company located in Palo Alto, California with 213 employees.\n",
      "---\n",
      "Title: deeplearning.ai: Revenue, Competitors, Alternatives - Growjo\n",
      "Link: https://growjo.com/company/deeplearning.ai\n",
      "Snippet: DeepLearning.AI is making a world-class AI education accessible to people around the globe. DeepLearning.AI was founded by Andrew Ng, a global leader in AI.\n",
      "---\n",
      "Title: Deeplearning - Company Profile - Tracxn\n",
      "Link: https://tracxn.com/d/companies/deeplearning/__SekrcD6K_o4Cvm4SgstSYBIp1zHk-3FzPsR3SkeAgnE\n",
      "Snippet: Deeplearning - Online platform providing multi-disciplinary learning courses. Raised funding from 1 investor. Founded by Andrew Ng in the ...\n",
      "---\n",
      "Title: DEEPLEARNING.AI LLC Company Profile | Palo Alto, CA\n",
      "Link: https://www.dnb.com/business-directory/company-profiles.deeplearningai_llc.60c8a9eeade896ced9837d0fef6f19ec.html\n",
      "Snippet: Find company research, competitor information, contact details & financial data for DEEPLEARNING.AI LLC of Palo Alto, CA. Get the latest business insights ...\n",
      "---\n",
      "Title: DeepLearning.AI: Start or Advance Your Career in AI\n",
      "Link: https://www.deeplearning.ai/\n",
      "Snippet: Join over 7 million people learning how to use and build AI. AI Courses and Specializations. Build a foundation of machine learning and AI skills.\n",
      "---\n",
      "Title: DeepLearning.AI - Overview, News & Similar companies - ZoomInfo\n",
      "Link: https://www.zoominfo.com/c/deeplearningai-inc/462132321\n",
      "Snippet: DeepLearning.AI is an education technology company that is empowering the global workforce to build an AI-powered future through world-class education.\n",
      "---\n",
      "\n",
      "\u001b[00m\n",
      "\u001b[32;1m\u001b[1;3mThought: The search results provide a good starting point to understand DeepLearningAI's background, key personnel, and business activities. To compile a comprehensive profile as required, I should delve deeper into the most relevant and detailed sources to extract specific information on the company's recent milestones, key decision-makers, and potential needs that align with our offerings. I'll start with the detailed company profile listed on Crunchbase, which often contains comprehensive business information.\n",
      "\n",
      "Action: Search the internet\n",
      "Action Input: {\"search_query\": \"Deeplearning.ai Crunchbase company profile\"}\u001b[0m\u001b[95m \n",
      "\n",
      "\n",
      "Search results: Title: Deeplearning.ai - Contacts, Employees, Board Members, Advisors ...\n",
      "Link: https://www.crunchbase.com/organization/deeplearning-ai/people\n",
      "Snippet: Deeplearning.ai has 4 current employee profiles, including Chief Operating Officer Jonathan Heyne . Deeplearning.ai has 1 board member or advisor, ...\n",
      "---\n",
      "Title: Deeplearning.ai company information, funding & investors\n",
      "Link: https://app.dealroom.co/companies/deeplearning_ai\n",
      "Snippet: Deeplearningai is company that explores the frontier of AI. Location. Palo Alto California (HQ). Website. deeplearning.ai. Launch date. 2017. Employees.\n",
      "---\n",
      "Title: About - DeepLearning.AI\n",
      "Link: https://www.deeplearning.ai/about/\n",
      "Snippet: DeepLearning.AI is an education technology company that is empowering the global workforce to build an AI-powered future through world-class education.\n",
      "---\n",
      "Title: CrewAI_Tools_For_Customer_Outreach_Campaign - Kaggle\n",
      "Link: https://www.kaggle.com/code/ademboukhris/crewai-tools-for-customer-outreach-campaign\n",
      "Snippet: DeepLearning.AI was founded by Andrew Ng, a global leader in AI. --- Title: DEEPLEARNING.AI LLC Company Profile | Palo Alto, CA Link: https://www.dnb.com ...\n",
      "---\n",
      "Title: Deep Learning Analytics Company Profile 2025 - PitchBook\n",
      "Link: https://pitchbook.com/profiles/company/266531-05\n",
      "Snippet: Information on acquisition, funding, investors, and executives for Deep Learning Analytics. Use the PitchBook Platform to explore the full profile.\n",
      "---\n",
      "Title: Deeplearning - Company Profile - Tracxn\n",
      "Link: https://tracxn.com/d/companies/deeplearning/__SekrcD6K_o4Cvm4SgstSYBIp1zHk-3FzPsR3SkeAgnE\n",
      "Snippet: Deeplearning - Online platform providing multi-disciplinary learning courses. Raised funding from 1 investor. Founded by Andrew Ng in the ...\n",
      "---\n",
      "Title: Hive AI: AI to Understand, Search, and Generate Content\n",
      "Link: https://thehive.ai/\n",
      "Snippet: Hive's APIs enable developers to integrate pre-trained AI models that address technically challenging content understanding needs into their applications.\n",
      "---\n",
      "Title: Galileo AI: The Generative AI Evaluation Company\n",
      "Link: https://www.galileo.ai/\n",
      "Snippet: Galileo's Evaluation Intelligence Platform empowers AI teams to evaluate, iterate, monitor, and protect generative AI applications at enterprise scale.\n",
      "---\n",
      "Title: Tavily\n",
      "Link: https://tavily.com/\n",
      "Snippet: Tavily is a search engine tailored for AI agents, delivering real-time, accurate results, intelligent query suggestions, and in-depth research capabilities.\n",
      "---\n",
      "\n",
      "\u001b[00m\n",
      "\u001b[32;1m\u001b[1;3mThought: The search results from Crunchbase provide essential information about Deeplearning.ai, including key employees and board members, which is crucial for understanding their decision-making structure. It would be valuable to explore the company's website for further details on their recent milestones, specific needs, and how our solutions can align with their goals. This will help in crafting a more personalized engagement strategy.\n",
      "\n",
      "Action: Search the internet\n",
      "Action Input: {\"search_query\": \"Deeplearning.ai official website\"}\u001b[0m\u001b[95m \n",
      "\n",
      "\n",
      "Search results: Title: DeepLearning.AI: Start or Advance Your Career in AI\n",
      "Link: https://www.deeplearning.ai/\n",
      "Snippet: DeepLearning.AI | Andrew Ng | Join over 7 million people learning how to use and build AI through our online courses. Earn certifications, level up your ...\n",
      "---\n",
      "Title: Andrew Ng: Home\n",
      "Link: https://www.andrewng.org/\n",
      "Snippet: Dr. Andrew Ng is a globally recognized leader in AI (Artificial Intelligence). He is Founder & CEO of DeepLearning.AI, Founder & CEO of Landing AI, ...\n",
      "---\n",
      "Title: DeepLearningAI - YouTube\n",
      "Link: https://www.youtube.com/c/deeplearningai\n",
      "Snippet: The official DeepLearning.AI YouTube channel! Here you can find the videos from our Coursera programs on machine learning as well as recorded events.\n",
      "---\n",
      "Title: DeepLearning.AI (@DeepLearningAI) / X\n",
      "Link: https://x.com/deeplearningai?lang=en\n",
      "Snippet: We are an education technology company with the mission to grow and connect the global AI community.\n",
      "---\n",
      "Title: DeepLearning.AI Online Courses - Coursera\n",
      "Link: https://www.coursera.org/partners/deeplearning-ai\n",
      "Snippet: Learn to build AI apps with Tensorflow. Build, train, and optimize deep neural networks and dive deep into Computer Vision, Natural Language Processing, and ...\n",
      "---\n",
      "Title: DeepLearning.AI - LinkedIn\n",
      "Link: https://www.linkedin.com/company/deeplearningai\n",
      "Snippet: DeepLearning.AI is making a world-class AI education accessible to people around the globe. DeepLearning.AI was founded by Andrew Ng, a global leader in AI.\n",
      "---\n",
      "Title: What Is Deep Learning? | IBM\n",
      "Link: https://www.ibm.com/think/topics/deep-learning\n",
      "Snippet: Deep learning is a subset of machine learning that uses multilayered neural networks, to simulate the complex decision-making power of the human brain.\n",
      "---\n",
      "\n",
      "\u001b[00m\n",
      "\u001b[32;1m\u001b[1;3mThought: To finalize the comprehensive report on DeepLearningAI, I need to compile the information obtained from the search results into a detailed profile that includes company background, key decision-makers, recent milestones, and potential needs that align with our offerings. This will help in suggesting a personalized engagement strategy.\n",
      "\n",
      "Final Answer: \n",
      "**DeepLearningAI Company Profile**\n",
      "\n",
      "**Background:**\n",
      "- **Name:** DeepLearning.AI\n",
      "- **Website:** [deeplearning.ai](https://www.deeplearning.ai/)\n",
      "- **Founded:** 2017\n",
      "- **Founder:** Andrew Ng, a global leader in AI and former Chief Scientist at Baidu.\n",
      "- **Headquarters:** Palo Alto, California\n",
      "- **Mission:** To make a world-class AI education accessible globally.\n",
      "- **Field:** Education Technology focusing on Artificial Intelligence, Data, and Analytics.\n",
      "- **User Base:** Over 7 million learners.\n",
      "- **Courses Offered:** AI, Machine Learning, Deep Learning, Computer Vision, Natural Language Processing using tools like TensorFlow.\n",
      "\n",
      "**Key Personnel:**\n",
      "- **Andrew Ng:** Founder and globally recognized leader in AI.\n",
      "- **Jonathan Heyne:** Chief Operating Officer.\n",
      "\n",
      "**Recent Milestones:**\n",
      "- DeepLearning.AI has continuously expanded its course offerings on platforms like Coursera, covering advanced topics in AI and machine learning.\n",
      "- The company emphasizes practical applications of AI through project-based learning and real-world problem solving.\n",
      "\n",
      "**Potential Needs and Solutions:**\n",
      "- **Scalable Learning Platforms:** As an online education platform with millions of users, DeepLearningAI could benefit from enhanced scalability and user experience improvements in their learning management system.\n",
      "- **AI-Driven Analytics:** To better understand learner behavior and improve course offerings, DeepLearning.AI might need advanced analytics solutions powered by AI.\n",
      "- **Customized Learning Experiences:** Implementing AI to offer personalized learning paths based on individual progress, strengths, and weaknesses could be a game-changer for them.\n",
      "\n",
      "**Engagement Strategy:**\n",
      "- **Personalized Demo:** Offer a customized demonstration of CrewAI’s tools that can help enhance their platform's scalability and user engagement.\n",
      "- **Educational Collaboration:** Propose a partnership where CrewAI can contribute to their course materials with cutting-edge AI insights and tools.\n",
      "- **Data Analytics Solutions:** Present a detailed plan on how our analytics tools can help them gain deeper insights into user data to optimize their courses.\n",
      "\n",
      "This detailed profile and engagement strategy should help in effectively tailoring our approach to meet the specific needs of DeepLearningAI, fostering a productive partnership.\u001b[0m\n",
      "\n",
      "\u001b[1m> Finished chain.\u001b[0m\n",
      "\u001b[1m\u001b[92m [DEBUG]: == [Sales Representative] Task output: **DeepLearningAI Company Profile**\n",
      "\n",
      "**Background:**\n",
      "- **Name:** DeepLearning.AI\n",
      "- **Website:** [deeplearning.ai](https://www.deeplearning.ai/)\n",
      "- **Founded:** 2017\n",
      "- **Founder:** Andrew Ng, a global leader in AI and former Chief Scientist at Baidu.\n",
      "- **Headquarters:** Palo Alto, California\n",
      "- **Mission:** To make a world-class AI education accessible globally.\n",
      "- **Field:** Education Technology focusing on Artificial Intelligence, Data, and Analytics.\n",
      "- **User Base:** Over 7 million learners.\n",
      "- **Courses Offered:** AI, Machine Learning, Deep Learning, Computer Vision, Natural Language Processing using tools like TensorFlow.\n",
      "\n",
      "**Key Personnel:**\n",
      "- **Andrew Ng:** Founder and globally recognized leader in AI.\n",
      "- **Jonathan Heyne:** Chief Operating Officer.\n",
      "\n",
      "**Recent Milestones:**\n",
      "- DeepLearning.AI has continuously expanded its course offerings on platforms like Coursera, covering advanced topics in AI and machine learning.\n",
      "- The company emphasizes practical applications of AI through project-based learning and real-world problem solving.\n",
      "\n",
      "**Potential Needs and Solutions:**\n",
      "- **Scalable Learning Platforms:** As an online education platform with millions of users, DeepLearningAI could benefit from enhanced scalability and user experience improvements in their learning management system.\n",
      "- **AI-Driven Analytics:** To better understand learner behavior and improve course offerings, DeepLearning.AI might need advanced analytics solutions powered by AI.\n",
      "- **Customized Learning Experiences:** Implementing AI to offer personalized learning paths based on individual progress, strengths, and weaknesses could be a game-changer for them.\n",
      "\n",
      "**Engagement Strategy:**\n",
      "- **Personalized Demo:** Offer a customized demonstration of CrewAI’s tools that can help enhance their platform's scalability and user engagement.\n",
      "- **Educational Collaboration:** Propose a partnership where CrewAI can contribute to their course materials with cutting-edge AI insights and tools.\n",
      "- **Data Analytics Solutions:** Present a detailed plan on how our analytics tools can help them gain deeper insights into user data to optimize their courses.\n",
      "\n",
      "This detailed profile and engagement strategy should help in effectively tailoring our approach to meet the specific needs of DeepLearningAI, fostering a productive partnership.\n",
      "\n",
      "\u001b[00m\n",
      "\u001b[1m\u001b[95m [DEBUG]: == Working Agent: Lead Sales Representative\u001b[00m\n",
      "\u001b[1m\u001b[95m [INFO]: == Starting Task: Using the insights gathered from the lead profiling report on DeepLearningAI, craft a personalized outreach campaign aimed at Andrew Ng, the CEO of DeepLearningAI. The campaign should address their recent product launch and how our solutions can support their goals. Your communication must resonate with DeepLearningAI's company culture and values, demonstrating a deep understanding of their business and needs.\n",
      "Don't make assumptions and only use information you absolutely sure about.\u001b[00m\n",
      "\n",
      "\n",
      "\u001b[1m> Entering new CrewAgentExecutor chain...\u001b[0m\n",
      "\u001b[32;1m\u001b[1;3mThought: To craft a personalized outreach campaign, I need to ensure my email drafts resonate with DeepLearningAI's culture and address their needs effectively. I'll begin by drafting an initial email content that aligns with the company's recent achievements and potential needs.\n",
      "\n",
      "Action: Sentiment Analysis Tool\n",
      "Action Input: {\"text\": \"Dear Andrew Ng, I hope this message finds you thriving. I’m reaching out to share how CrewAI’s innovative solutions can support and amplify the impressive strides DeepLearningAI has made in the field of AI education. Your recent expansion of course offerings and commitment to practical AI applications are truly inspiring. We believe that our advanced analytics tools and customized learning platforms can contribute significantly to enhancing the learning experience you offer. Looking forward to discussing this in detail and exploring potential collaborations. Best regards, [Your Name]\"}\u001b[0m\u001b[95m \n",
      "\n",
      "positive\n",
      "\u001b[00m\n"
     ]
    }
   ],
   "source": [
    "inputs = {\n",
    "    \"lead_name\": \"DeepLearningAI\",\n",
    "    \"industry\": \"Online Learning Platform\",\n",
    "    \"key_decision_maker\": \"Andrew Ng\",\n",
    "    \"position\": \"CEO\",\n",
    "    \"milestone\": \"product launch\"\n",
    "}\n",
    "\n",
    "result = crew.kickoff(inputs=inputs)"
   ]
  },
  {
   "cell_type": "markdown",
   "metadata": {},
   "source": [
    "- Display the final result as Markdown."
   ]
  },
  {
   "cell_type": "code",
   "execution_count": 15,
   "metadata": {},
   "outputs": [
    {
     "data": {
      "text/markdown": [
       "**Email 1: Introduction and Acknowledgment of Achievements**\n",
       "Subject: Revolutionizing AI Education Together\n",
       "Dear Andrew,\n",
       "I hope this message finds you thriving. I'm truly inspired by the evolution of DeepLearning.AI under your leadership. Your commitment to making world-class AI education accessible globally resonates deeply with us at CrewAI. With your recent expansion in course offerings and a growing user base, it's clear that your impact on the AI community is profound.\n",
       "At CrewAI, we specialize in enhancing learning platforms through advanced AI-driven analytics and scalable infrastructure, and we're excited about the possibility of supporting DeepLearning.AI in its mission. I'd love to discuss how we can collaborate to further enrich the learning experience for your users.\n",
       "Looking forward to the opportunity to connect and explore synergies.\n",
       "Best regards,\n",
       "[Your Name]\n",
       "\n",
       "**Email 2: Detailed Proposal on Scalability and User Engagement**\n",
       "Subject: Enhancing DeepLearning.AI's Platform for Millions\n",
       "Dear Andrew,\n",
       "Following our initial outreach, I wanted to delve deeper into how CrewAI can specifically enhance the scalability and user experience of DeepLearning.AI's platform. With over 7 million learners, ensuring a seamless and responsive learning environment is paramount.\n",
       "Our CrewAI framework can integrate with your existing system to dynamically scale resources based on real-time demand, significantly reducing latency and improving load times. Moreover, our AI-driven tools can personalize user engagement, adapting content delivery based on individual learning patterns and preferences.\n",
       "I am keen to set up a demo to show you our technology in action. Please let me know a convenient time for you.\n",
       "Looking forward to making a tangible impact together.\n",
       "Best regards,\n",
       "[Your Name]\n",
       "\n",
       "**Email 3: Proposal for Educational Collaboration and Data Analytics**\n",
       "Subject: A Strategic Alliance in AI Education\n",
       "Dear Andrew,\n",
       "Building on our previous discussions, I believe there's a unique opportunity for a strategic alliance between DeepLearning.AI and CrewAI. By integrating our cutting-edge AI insights and analytics tools into your courses, we can offer a more nuanced understanding of learner behaviors and course effectiveness.\n",
       "Our data analytics solutions can provide detailed reports and actionable insights, enabling you to tailor and optimize your course offerings more effectively. Furthermore, a partnership could include co-developing content that highlights practical applications of AI, giving your learners an edge in the job market.\n",
       "I would love to discuss how we can turn this potential into reality and set a milestone in AI education together.\n",
       "Looking forward to your thoughts on this collaborative venture.\n",
       "Best regards,\n",
       "[Your Name]"
      ],
      "text/plain": [
       "<IPython.core.display.Markdown object>"
      ]
     },
     "execution_count": 15,
     "metadata": {},
     "output_type": "execute_result"
    }
   ],
   "source": [
    "from IPython.display import Markdown\n",
    "Markdown(result)"
   ]
  }
 ],
 "metadata": {
  "kernelspec": {
   "display_name": "Python 3",
   "language": "python",
   "name": "python3"
  },
  "language_info": {
   "codemirror_mode": {
    "name": "ipython",
    "version": 3
   },
   "file_extension": ".py",
   "mimetype": "text/x-python",
   "name": "python",
   "nbconvert_exporter": "python",
   "pygments_lexer": "ipython3",
   "version": "3.11.4"
  }
 },
 "nbformat": 4,
 "nbformat_minor": 2
}
